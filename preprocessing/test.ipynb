{
 "cells": [
  {
   "cell_type": "code",
   "execution_count": 19,
   "metadata": {},
   "outputs": [
    {
     "name": "stdout",
     "output_type": "stream",
     "text": [
      "[951, 3, 958, 3, 146, 148, 6, 404, 951, 3, 958, 3]\n",
      "['▁', '<', 's', '>', '▁this', '▁is', '▁a', '▁test', '▁', '</', 's', '>']\n",
      "[50, 62, 955, 260, 75]\n",
      "['▁he', 'll', 'o', '▁wor', 'ld']\n",
      "this is a test\n",
      "['<s>', '▁this', '▁is', '▁a', '▁test', '</s>', '<pad>', '<pad>']\n",
      "[2, 3, 951]\n"
     ]
    }
   ],
   "source": [
    "import sentencepiece as spm\n",
    "sp = spm.SentencePieceProcessor(model_file='/home/you/workspace/son/transformer-based-TTS/preprocessing/sentencepiece.model')\n",
    "print(sp.encode('<s> this is a test </s>'))\n",
    "print(sp.encode('<s> this is a test </s>', out_type=str))\n",
    "print(sp.encode('hello world', out_type=int))\n",
    "print(sp.encode('hello world', out_type=str))\n",
    "print(sp.decode([1, 146, 148, 6, 404, 2, 0, 0]))\n",
    "print(sp.id_to_piece([1, 146, 148, 6, 404, 2, 0, 0]))\n",
    "print(sp.piece_to_id(['</s>', '\\r', '▁']))"
   ]
  }
 ],
 "metadata": {
  "kernelspec": {
   "display_name": "pytorch",
   "language": "python",
   "name": "python3"
  },
  "language_info": {
   "codemirror_mode": {
    "name": "ipython",
    "version": 3
   },
   "file_extension": ".py",
   "mimetype": "text/x-python",
   "name": "python",
   "nbconvert_exporter": "python",
   "pygments_lexer": "ipython3",
   "version": "3.11.4"
  }
 },
 "nbformat": 4,
 "nbformat_minor": 2
}
